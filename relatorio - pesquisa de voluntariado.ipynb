{
    "cells": [
        {
            "cell_type": "code",
            "execution_count": null,
            "metadata": {},
            "outputs": [],
            "source": [
                "import pandas as pd\n",
                "import matplotlib.pyplot as plt\n",
                "import seaborn as sns\n",
                "import collections\n",
                "import itertools\n",
                "import textwrap\n",
                "\n",
                "import helpers.utils as ut\n",
                "\n",
                "sns.set(rc={'figure.figsize': (20.3, 10.8)})\n",
                "sns.set(font_scale=2)\n",
                "sns.set_theme(style=\"whitegrid\")"
            ]
        },
        {
            "cell_type": "code",
            "execution_count": null,
            "metadata": {},
            "outputs": [],
            "source": [
                "colors = [\"#1A3B47\", \"#FFEA80\",\"#F7AC6F\",\"#E88AA2\",\"#79C5B4\",\"#639FCB\",\"#7874B4\"]\n",
                "empresa_palette = sns.color_palette(colors)\n",
                "fontscale = 1.5\n",
                "participationItems = [\"Participo sempre\", \"Participo bastante\",\"Participo eventualmente\", \"Participo pouco\", \"Não participo\"]\n",
                "satisfactionItems = [\"Muito satisfeito\", \"Pouco Satisfeito\",\"Neutro\", \"Insatisfeito\", \"Muito insatisfeito\"]\n",
                "participationProbabilityItems = [\"Não participarei\",\"Improvável\", \"Pouco provável\", \"Provável\",\"Muito Provável\",]\n",
                "dias_semana=[\"Segunda-feira\",\"Terça-feira\",\"Quarta-feira\",\"Quinta-feira\",\"Sexta-feira\",\"Sábado\",\"Domingo\"]"
            ]
        },
        {
            "cell_type": "code",
            "execution_count": null,
            "metadata": {},
            "outputs": [],
            "source": [
                "def satisfaction(number):\n",
                "    if(number == 0 or number == 1):\n",
                "        satisfaction = satisfactionItems[0]\n",
                "    elif(number == 2 or number == 3):\n",
                "        satisfaction = satisfactionItems[1]\n",
                "    elif(number == 4 or number == 5 or number == 6):\n",
                "        satisfaction = satisfactionItems[2]\n",
                "    elif(number == 7 or number == 8):\n",
                "        satisfaction = satisfactionItems[3]\n",
                "    else:\n",
                "        satisfaction = satisfactionItems[4]\n",
                "    return satisfaction\n",
                "\n",
                "\n",
                "def participation(number):\n",
                "    if(number == 0 or number == 1):\n",
                "        probability = participationItems[0]\n",
                "    elif(number == 2 or number == 3):\n",
                "        probability = participationItems[1]\n",
                "    elif(number == 4 or number == 5 or number == 6):\n",
                "        probability = participationItems[2]\n",
                "    elif(number == 7 or number == 8):\n",
                "        probability = participationItems[3]\n",
                "    else:\n",
                "        probability = participationItems[4]\n",
                "    return probability\n",
                "\n",
                "def probability(number):\n",
                "    if(number == 0 or number == 1):\n",
                "        probability = participationProbabilityItems[0]\n",
                "    elif(number == 2 or number == 3):\n",
                "        probability = participationProbabilityItems[1]\n",
                "    elif(number == 4 or number == 5 or number == 6):\n",
                "        probability = participationProbabilityItems[2]\n",
                "    elif(number == 7 or number == 8):\n",
                "        probability = participationProbabilityItems[3]\n",
                "    else:\n",
                "        probability = participationProbabilityItems[4]\n",
                "\n",
                "    return probability"
            ]
        },
        {
            "cell_type": "code",
            "execution_count": null,
            "metadata": {},
            "outputs": [],
            "source": [
                "resultados = pd.read_excel(\"Pesquisa de voluntariado corporativo - resultados.xlsx\")"
            ]
        },
        {
            "cell_type": "code",
            "execution_count": null,
            "metadata": {},
            "outputs": [],
            "source": [
                "resultados.rename(columns={\n",
                "    resultados.columns[0]:\"ID\", \n",
                "    resultados.columns[3]:\"Email\", \n",
                "    resultados.columns[4]:\"Nome\", \n",
                "    resultados.columns[5]:\"Email Corporativo\", \n",
                "    resultados.columns[6]:\"Idade\", \n",
                "    resultados.columns[7]:\"Experiência\", \n",
                "    resultados.columns[8]:\"Voluntariado Externo\", \n",
                "    resultados.columns[9]:\"Indicação de Instituição\", \n",
                "    resultados.columns[10]:\"Experiência Compartilhada\", \n",
                "    resultados.columns[11]:\"Dificuldades\", \n",
                "    resultados.columns[12]:\"Minha participação\", \n",
                "    resultados.columns[13]:\"Minha satisfacão\", \n",
                "    resultados.columns[14]:\"Probabilidade de participar\", \n",
                "    resultados.columns[15]:\"Ações de interesse\", \n",
                "    resultados.columns[16]:\"Tipos de doações\", \n",
                "    resultados.columns[17]:\"Dias com disponibilidade\", \n",
                "    resultados.columns[18]:\"Horas disponíveis\", \n",
                "    resultados.columns[19]:\"World Cleanup Day\", \n",
                "    resultados.columns[20]:\"Entrada das Informações\", \n",
                "    resultados.columns[21]:\"Frequencia das Informações\", \n",
                "    resultados.columns[22]:\"Sugestões\"    \n",
                "    }, inplace=True)\n",
                "resultados.columns"
            ]
        },
        {
            "cell_type": "code",
            "execution_count": null,
            "metadata": {},
            "outputs": [],
            "source": [
                "funcionarios = pd.read_excel(\"C:\\\\2021\\\\Projetos\\\\Mates\\\\Relatórios\\\\Base 202108.xlsx\")"
            ]
        },
        {
            "cell_type": "code",
            "execution_count": null,
            "metadata": {},
            "outputs": [],
            "source": [
                "funcionarios.drop([\"Salário\", \"RFR\", \"PERCENTUAL BONUS\",\n",
                "                  \"Acordo de Retenção\", \"SAP. Cod. Taxa\", \"Taxa\", \"Contrato\", \"CPF\", \"Cod. UO\", \"Cod. UO SAP\"], axis=1)\n"
            ]
        },
        {
            "cell_type": "code",
            "execution_count": null,
            "metadata": {},
            "outputs": [],
            "source": [
                "funcionarios_ext = pd.merge(resultados, funcionarios, how=\"left\", left_on=\"Email\", right_on=\"Mail\" )\n",
                "funcionarios_ext.shape"
            ]
        },
        {
            "cell_type": "code",
            "execution_count": null,
            "metadata": {},
            "outputs": [],
            "source": [
                "funcionarios_ext.to_excel(\"funcionarios_ext.xlsx\")"
            ]
        },
        {
            "cell_type": "code",
            "execution_count": null,
            "metadata": {},
            "outputs": [],
            "source": [
                "funcionarios_ext.columns"
            ]
        },
        {
            "cell_type": "code",
            "execution_count": null,
            "metadata": {},
            "outputs": [],
            "source": [
                "funcionarios_ext"
            ]
        },
        {
            "cell_type": "code",
            "execution_count": null,
            "metadata": {},
            "outputs": [],
            "source": [
                "resultados.columns"
            ]
        },
        {
            "cell_type": "code",
            "execution_count": null,
            "metadata": {},
            "outputs": [],
            "source": [
                "resultados.shape"
            ]
        },
        {
            "cell_type": "code",
            "execution_count": null,
            "metadata": {},
            "outputs": [],
            "source": [
                "resultados.info()"
            ]
        },
        {
            "cell_type": "code",
            "execution_count": null,
            "metadata": {},
            "outputs": [],
            "source": [
                "# resultados.drop([\n",
                "#     'Start time', \n",
                "#     'Completion time',\n",
                "#     ], axis=1, inplace=True)\n",
                "\n",
                "# resultados[resultados[\"Email\"]==\"nome@empresa.com\"]"
            ]
        },
        {
            "cell_type": "code",
            "execution_count": null,
            "metadata": {},
            "outputs": [],
            "source": [
                "duplicated = resultados[resultados.duplicated([\"Email\"],keep=False)].sort_values(\"Email\")\n",
                "duplicated"
            ]
        },
        {
            "cell_type": "code",
            "execution_count": null,
            "metadata": {},
            "outputs": [],
            "source": [
                "resultados.drop_duplicates(subset=[\"Email\"], keep=\"last\", inplace=True)"
            ]
        },
        {
            "cell_type": "code",
            "execution_count": null,
            "metadata": {},
            "outputs": [],
            "source": [
                "resultados.shape"
            ]
        },
        {
            "cell_type": "code",
            "execution_count": null,
            "metadata": {},
            "outputs": [],
            "source": [
                "data = {\n",
                "    'Funcionários':[funcionarios.shape[0]],\n",
                "    'Pesquisas Respondidas':[resultados.shape[0]],\n",
                "    'Porcentagem':[(resultados.shape[0]*100)/funcionarios.shape[0]]\n",
                "}\n",
                "respostas = pd.DataFrame(data = data)\n",
                "respostas"
            ]
        },
        {
            "cell_type": "code",
            "execution_count": null,
            "metadata": {},
            "outputs": [],
            "source": [
                "sns.set_theme(style=\"whitegrid\", font_scale=fontscale)\n",
                "\n",
                "ax = sns.barplot(data=respostas, order=[\"Funcionários\",\"Pesquisas Respondidas\"], palette=empresa_palette)\n",
                "ax.set_ylim(0, 8500)\n",
                "\n",
                "for p in ax.patches:\n",
                "    ax.annotate('{:.0f}'.format(p.get_height()), ((p.get_x()+p.get_width()/2)+0.02, p.get_y()+p.get_height()+80), ha=\"center\")\n",
                "    \n",
                "plt.tight_layout()\n",
                "\n",
                "plt.savefig(\"charts/porcentagem-respostas.png\")"
            ]
        },
        {
            "cell_type": "markdown",
            "metadata": {},
            "source": [
                "## Qual a sua idade?"
            ]
        },
        {
            "cell_type": "code",
            "execution_count": null,
            "metadata": {},
            "outputs": [],
            "source": [
                "df_idade = resultados.copy()"
            ]
        },
        {
            "cell_type": "code",
            "execution_count": null,
            "metadata": {},
            "outputs": [],
            "source": [
                "df_idade.columns"
            ]
        },
        {
            "cell_type": "code",
            "execution_count": null,
            "metadata": {},
            "outputs": [],
            "source": [
                "df_idade[df_idade[\"Idade\"]==\"55-64\"]"
            ]
        },
        {
            "cell_type": "code",
            "execution_count": null,
            "metadata": {},
            "outputs": [],
            "source": [
                "resultados.columns"
            ]
        },
        {
            "cell_type": "code",
            "execution_count": null,
            "metadata": {},
            "outputs": [],
            "source": [
                "sns.set_theme(style=\"whitegrid\", font_scale=fontscale)\n",
                "\n",
                "ax = sns.countplot(x=\"Idade\", data=resultados, order=[\n",
                "    \"18-24\",\n",
                "    \"25-34\",\n",
                "    \"35-44\",\n",
                "    \"45-54\",\n",
                "    \"55-64\",\n",
                "    \"> 65\"\n",
                "    ], palette=empresa_palette)\n",
                "ax.set_ylim(0, 220)\n",
                "ax.set_ylabel(\"\")\n",
                "\n",
                "for p in ax.patches:\n",
                "    ax.annotate('{:.0f}'.format(p.get_height()), ((p.get_x()+p.get_width()/2)+0.02, p.get_y()+p.get_height()+2), ha=\"center\")\n",
                "    \n",
                "plt.tight_layout()\n",
                "\n",
                "plt.savefig(\"charts/faixa-etaria.png\")"
            ]
        },
        {
            "cell_type": "markdown",
            "metadata": {},
            "source": [
                "## Você já teve alguma experiência com voluntariado corporativo na Empresa ou em outra empresa?"
            ]
        },
        {
            "cell_type": "code",
            "execution_count": null,
            "metadata": {},
            "outputs": [],
            "source": [
                "sns.set_theme(style=\"whitegrid\", font_scale=fontscale)\n",
                "\n",
                "ax = sns.countplot(x=\"Experiência\", data=resultados, palette=empresa_palette)\n",
                "ax.set_ylim(0, 450)\n",
                "ax.set_ylabel(\"\")\n",
                "ax.set_xlabel(\"\")\n",
                "\n",
                "for p in ax.patches:\n",
                "    ax.annotate('{:.0f}'.format(p.get_height()), ((p.get_x()+p.get_width()/2)+0.02, p.get_y()+p.get_height()+5), ha=\"center\")\n",
                "    \n",
                "plt.tight_layout()"
            ]
        },
        {
            "cell_type": "markdown",
            "metadata": {},
            "source": [
                "## Você participa ou participou recentemente de ações de voluntariado fora da empresa?"
            ]
        },
        {
            "cell_type": "code",
            "execution_count": null,
            "metadata": {},
            "outputs": [],
            "source": [
                "collection = collections.Counter(itertools.chain.from_iterable(v.split(';') for v in resultados[\"Voluntariado Externo\"]))\n",
                "del collection['']\n",
                "df_collection = pd.DataFrame.from_dict(collection,orient='index').reset_index().rename(columns={'index':'Participação', 0:'Qtd'})\n",
                "df_collection"
            ]
        },
        {
            "cell_type": "code",
            "execution_count": null,
            "metadata": {},
            "outputs": [],
            "source": [
                "sns.set_theme(style=\"whitegrid\", font_scale=1.5)\n",
                "\n",
                "ax = sns.barplot(y=\"Participação\", x=\"Qtd\",data=df_collection, palette=empresa_palette)\n",
                "ax.set_xlabel(\"\")\n",
                "ax.set_ylabel(\"\")\n",
                "ax.set_xlim(0,230)\n",
                "ax.set_yticklabels([textwrap.fill(e, 40) for e in df_collection['Participação'].head(n=5)])\n",
                "\n",
                "for p in ax.patches:\n",
                "    ax.annotate('{:.0f}'.format(p.get_width()), (p.get_width()+1, p.get_y()+0.50))\n",
                "    \n",
                "plt.tight_layout()\n",
                "\n",
                "plt.savefig(\"charts/participacao-voluntariado-externo.png\")"
            ]
        },
        {
            "cell_type": "markdown",
            "metadata": {},
            "source": [
                "## Quais as maiores dificuldades para participar de ações de voluntariado?"
            ]
        },
        {
            "cell_type": "code",
            "execution_count": null,
            "metadata": {},
            "outputs": [],
            "source": [
                "dificuldades = collections.Counter(itertools.chain.from_iterable(v.split(';') for v in resultados[\"Dificuldades\"]))\n",
                "del dificuldades['']\n",
                "df_dificuldades = pd.DataFrame.from_dict(dificuldades,orient='index').reset_index().rename(columns={'index':'Dificuldades', 0:'Qtd'})\n",
                "df_dificuldades"
            ]
        },
        {
            "cell_type": "code",
            "execution_count": null,
            "metadata": {},
            "outputs": [],
            "source": [
                "sns.set_theme(style=\"whitegrid\", font_scale=1.5)\n",
                "\n",
                "ax = sns.barplot(y=\"Dificuldades\", x=\"Qtd\",data=df_dificuldades, palette=empresa_palette\n",
                "# , order=[\n",
                "#     \"Falta de tempo\",\n",
                "#     \"Falta de parceiros para atuar em conjunto\",\n",
                "#     \"Falta de apoio/suporte\",\n",
                "#     \"Falta de temas relacionados aos movimentos que participo ou tenho interesse\",\n",
                "#     \"Não vejo dificuldades\",\n",
                "# \"Não tenho interesse neste tipo de ação\"\n",
                "#     ]\n",
                ")\n",
                "ax.set_xlabel(\"\")\n",
                "ax.set_ylabel(\"\")\n",
                "ax.set_xlim(0,320)\n",
                "\n",
                "ax.set_yticklabels([textwrap.fill(e, 38) for e in df_dificuldades['Dificuldades'].head(n=6)])\n",
                "\n",
                "for p in ax.patches:\n",
                "    ax.annotate('{:.0f}'.format(p.get_width()), (p.get_width()+1, p.get_y()+0.50))\n",
                "    \n",
                "plt.tight_layout()\n",
                "plt.savefig(\"charts/dificuldades-voluntariado.png\")"
            ]
        },
        {
            "cell_type": "markdown",
            "metadata": {},
            "source": [
                "## Como você avalia a sua participação em programas ou ações de voluntariado nesta empresa?"
            ]
        },
        {
            "cell_type": "code",
            "execution_count": null,
            "metadata": {},
            "outputs": [],
            "source": [
                "resultados[\"Participação\"] = resultados[\"Minha participação\"].apply(participation)"
            ]
        },
        {
            "cell_type": "code",
            "execution_count": null,
            "metadata": {},
            "outputs": [],
            "source": [
                "sns.set_theme(style=\"whitegrid\", font_scale=1.5)\n",
                "\n",
                "ax = sns.countplot(x=\"Participação\", data=resultados, palette=empresa_palette, order=[\n",
                "    participationItems[0],\n",
                "    participationItems[1],\n",
                "    participationItems[2],\n",
                "    participationItems[3],\n",
                "    participationItems[4]\n",
                "])\n",
                "ax.set_xlabel(\"\")\n",
                "ax.set_ylabel(\"\")\n",
                "\n",
                "for p in ax.patches:\n",
                "    ax.annotate('{:.0f}'.format(p.get_height()), ((p.get_x()+p.get_width()/2)+0.02, p.get_y()+p.get_height()+5), ha=\"center\")\n",
                "\n",
                "plt.tight_layout()\n",
                "\n",
                "plt.savefig(\"charts/participacao-voluntariado-interno.png\")    "
            ]
        },
        {
            "cell_type": "code",
            "execution_count": null,
            "metadata": {},
            "outputs": [],
            "source": [
                "sns.set(rc={'figure.figsize': (20.3, 10.8)})\n",
                "sns.set_theme(style=\"whitegrid\", font_scale=1.5)\n",
                "\n",
                "ax = sns.histplot(resultados[\"Minha participação\"],bins=5,kde=True)\n",
                "ax.set_xlabel(\"\")\n",
                "ax.set_ylabel(\"\")\n",
                "plt.figure(figsize=(20,10))"
            ]
        },
        {
            "cell_type": "markdown",
            "metadata": {},
            "source": [
                "## Quão satisfeito você está com a sua experiência de voluntariado nesta empresa?\n"
            ]
        },
        {
            "cell_type": "code",
            "execution_count": null,
            "metadata": {},
            "outputs": [],
            "source": [
                "resultados[\"Satisfação\"] = resultados[\"Minha satisfacão\"].apply(satisfaction)"
            ]
        },
        {
            "cell_type": "code",
            "execution_count": null,
            "metadata": {},
            "outputs": [],
            "source": [
                "sns.set_theme(style=\"whitegrid\", font_scale=1.5)\n",
                "\n",
                "ax = sns.countplot(x=\"Satisfação\", data=resultados, palette=empresa_palette, order=[\n",
                "    satisfactionItems[0],\n",
                "    satisfactionItems[1],\n",
                "    satisfactionItems[2],\n",
                "    satisfactionItems[3],\n",
                "    satisfactionItems[4],\n",
                "])\n",
                "ax.set_xlabel(\"\")\n",
                "ax.set_ylabel(\"\")\n",
                "\n",
                "for p in ax.patches:\n",
                "    ax.annotate('{:.0f}'.format(p.get_height()), ((p.get_x()+p.get_width()/2)+0.02, p.get_y()+p.get_height()+5), ha=\"center\")\n",
                "\n",
                "plt.tight_layout()\n",
                "\n",
                "plt.savefig(\"charts/satisfação-voluntariado-interno.png\")    "
            ]
        },
        {
            "cell_type": "code",
            "execution_count": null,
            "metadata": {},
            "outputs": [],
            "source": [
                "sns.set(rc={'figure.figsize': (20.3, 10.8)})\n",
                "sns.set_theme(style=\"whitegrid\", font_scale=1.5)\n",
                "\n",
                "ax = sns.histplot(resultados[\"Minha satisfacão\"],bins=3,kde=True)\n",
                "ax.set_xlabel(\"\")\n",
                "ax.set_ylabel(\"\")\n",
                "plt.figure(figsize=(20,10))"
            ]
        },
        {
            "cell_type": "markdown",
            "metadata": {},
            "source": [
                "## Qual a probabilidade de participar das próximas ações de voluntariado na Empresa?\n"
            ]
        },
        {
            "cell_type": "code",
            "execution_count": null,
            "metadata": {},
            "outputs": [],
            "source": [
                "resultados[\"Participar de ações\"] = resultados[\"Probabilidade de participar\"].apply(probability)\n",
                "# resultados[\"Probabilidade de participar\"]\n",
                "# resultados[\"Participar de ações\"] "
            ]
        },
        {
            "cell_type": "code",
            "execution_count": null,
            "metadata": {},
            "outputs": [],
            "source": [
                "sns.set_theme(style=\"whitegrid\", font_scale=1.5)\n",
                "\n",
                "ax = sns.countplot(x=\"Participar de ações\", data=resultados, palette=empresa_palette, order=[\n",
                "    participationProbabilityItems[4],\n",
                "    participationProbabilityItems[3],\n",
                "    participationProbabilityItems[2],\n",
                "    participationProbabilityItems[1],\n",
                "    participationProbabilityItems[0],\n",
                "])\n",
                "ax.set_xlabel(\"\")\n",
                "ax.set_ylabel(\"\")\n",
                "\n",
                "for p in ax.patches:\n",
                "    ax.annotate('{:.0f}'.format(p.get_height()), ((p.get_x()+p.get_width()/2)+0.02, p.get_y()+p.get_height()+5), ha=\"center\")\n",
                "\n",
                "plt.tight_layout()\n",
                "\n",
                "plt.savefig(\"charts/probabilidade-participar-proximas-acoes.png\")    \n",
                "    "
            ]
        },
        {
            "cell_type": "markdown",
            "metadata": {},
            "source": [
                "## Selecione quais tipos de ações você tem interesse em se voluntariar\n"
            ]
        },
        {
            "cell_type": "code",
            "execution_count": null,
            "metadata": {},
            "outputs": [],
            "source": [
                "acoes_de_interesse = collections.Counter(itertools.chain.from_iterable(v.split(';') for v in resultados[\"Ações de interesse\"]))\n",
                "del acoes_de_interesse['']\n",
                "acoes_de_interesse = pd.DataFrame.from_dict(acoes_de_interesse,orient='index').reset_index().rename(columns={'index':'Acoes', 0:'Qtd'})\n",
                "acoes_de_interesse"
            ]
        },
        {
            "cell_type": "code",
            "execution_count": null,
            "metadata": {},
            "outputs": [],
            "source": [
                "others = 0\n",
                "for i in acoes_de_interesse.index:\n",
                "    if i>6:\n",
                "        others = others + 1\n",
                "        acoes_de_interesse.drop(i, inplace=True)\n",
                "print(others)\n"
            ]
        },
        {
            "cell_type": "code",
            "execution_count": null,
            "metadata": {},
            "outputs": [],
            "source": [
                "new_row = {'Acoes':'Outras', 'Qtd':others}\n",
                "acoes_de_interesse = acoes_de_interesse.append(new_row, ignore_index=True)\n",
                "acoes_de_interesse"
            ]
        },
        {
            "cell_type": "code",
            "execution_count": null,
            "metadata": {},
            "outputs": [],
            "source": [
                "acoes_de_interesse.columns"
            ]
        },
        {
            "cell_type": "code",
            "execution_count": null,
            "metadata": {},
            "outputs": [],
            "source": [
                "sns.set_theme(style=\"whitegrid\", font_scale=1.5)\n",
                "\n",
                "ax = sns.barplot(y=\"Acoes\", x=\"Qtd\",data=acoes_de_interesse, palette=empresa_palette)\n",
                "ax.set_xlabel(\"\")\n",
                "ax.set_ylabel(\"\")\n",
                "ax.set_xlim(0,400)\n",
                "for p in ax.patches:\n",
                "    ax.annotate('{:.0f}'.format(p.get_width()), (p.get_width()+1, p.get_y()+0.50))\n",
                "    \n",
                "ax.set_yticklabels([textwrap.fill(e, 38) for e in acoes_de_interesse['Acoes'].head(n=8)])\n",
                "\n",
                "plt.tight_layout()\n",
                "plt.savefig(\"charts/ações-de-interesse.png\")    "
            ]
        },
        {
            "cell_type": "markdown",
            "metadata": {},
            "source": [
                "## Que tipo de ações de doação você poderia contribuir?\n"
            ]
        },
        {
            "cell_type": "code",
            "execution_count": null,
            "metadata": {},
            "outputs": [],
            "source": [
                "tipo_de_doacoes = collections.Counter(itertools.chain.from_iterable(v.split(';') for v in resultados[\"Tipos de doações\"]))\n",
                "del tipo_de_doacoes['']\n",
                "tipo_de_doacoes = pd.DataFrame.from_dict(tipo_de_doacoes,orient='index').reset_index().rename(columns={'index':'Tipos', 0:'Qtd'})\n",
                "tipo_de_doacoes"
            ]
        },
        {
            "cell_type": "code",
            "execution_count": null,
            "metadata": {},
            "outputs": [],
            "source": [
                "sns.set_theme(style=\"whitegrid\", font_scale=1.5)\n",
                "\n",
                "ax = sns.barplot(y=\"Tipos\", x=\"Qtd\",data=tipo_de_doacoes, palette=empresa_palette)\n",
                "ax.set_xlabel(\"\")\n",
                "ax.set_ylabel(\"\")\n",
                "ax.set_xlim(0,450)\n",
                "ax.set_yticklabels([textwrap.fill(e, 38) for e in tipo_de_doacoes['Tipos'].head(n=7)])\n",
                "\n",
                "\n",
                "for p in ax.patches:\n",
                "    ax.annotate('{:.0f}'.format(p.get_width()), (p.get_width()+1, p.get_y()+0.50))\n",
                "    \n",
                "plt.tight_layout()\n",
                "\n",
                "plt.savefig(\"charts/o-que-doar.png\")    "
            ]
        },
        {
            "cell_type": "markdown",
            "metadata": {},
            "source": [
                "## Em quais dias você tem disponibilidade para ações de voluntariado?\n"
            ]
        },
        {
            "cell_type": "code",
            "execution_count": null,
            "metadata": {},
            "outputs": [],
            "source": [
                "dias_disponiveis = collections.Counter(itertools.chain.from_iterable(v.split(';') for v in resultados[\"Dias com disponibilidade\"]))\n",
                "del dias_disponiveis['']\n",
                "dias_disponiveis = pd.DataFrame.from_dict(dias_disponiveis,orient='index').reset_index().rename(columns={'index':'Dias', 0:'Qtd'})\n",
                "dias_disponiveis"
            ]
        },
        {
            "cell_type": "code",
            "execution_count": null,
            "metadata": {},
            "outputs": [],
            "source": [
                "sns.set_theme(style=\"whitegrid\", font_scale=1.5)\n",
                "dias_semana.append(\"Não tenho disponibilidade\")\n",
                "\n",
                "ax = sns.barplot(y=\"Dias\", x=\"Qtd\",data=dias_disponiveis, palette=empresa_palette, order=dias_semana)\n",
                "ax.set_xlabel(\"\")\n",
                "ax.set_ylabel(\"\")\n",
                "ax.set_xlim(0,400)\n",
                "for p in ax.patches:\n",
                "    ax.annotate('{:.0f}'.format(p.get_width()), (p.get_width()+1, p.get_y()+0.50))\n",
                "    \n",
                "plt.tight_layout()\n",
                "\n",
                "plt.savefig(\"charts/dia-da-semana.png\")"
            ]
        },
        {
            "cell_type": "markdown",
            "metadata": {},
            "source": [
                "## Quantas horas de voluntariado você pode dispor nos dias selecionados anteriormente?\n"
            ]
        },
        {
            "cell_type": "code",
            "execution_count": null,
            "metadata": {},
            "outputs": [],
            "source": [
                "sns.set_theme(style=\"whitegrid\", font_scale=2.5)\n",
                "ax = sns.countplot(y=\"Horas disponíveis\", data=resultados, palette=empresa_palette, order=[\"1h\",\"2h\",\"3h\",\"4h\",\"> 4h\",\"Não tenho disponibilidade.\"])\n",
                "ax.set_xlabel(\"\")\n",
                "ax.set_ylabel(\"\")\n",
                "ax.set_xlim(0,200)\n",
                "\n",
                "for p in ax.patches:\n",
                "    ax.annotate('{:.0f}'.format(p.get_width()), (p.get_width()+1, p.get_y()+0.50))\n",
                "    \n",
                "plt.tight_layout()\n",
                "\n",
                "plt.savefig(\"charts/horas-por-semana.png\")"
            ]
        },
        {
            "cell_type": "markdown",
            "metadata": {},
            "source": [
                "## No dia 18 de setembro, sábado, comemoramos o Dia Internacional da Limpeza (World Cleanup Day). Em razão dessa data, promoveremos ações de limpeza em praias e praças próximos às nossas sedes.  Você tem interesse em participar?\n"
            ]
        },
        {
            "cell_type": "code",
            "execution_count": null,
            "metadata": {},
            "outputs": [],
            "source": [
                "sns.set_theme(style=\"whitegrid\", font_scale=fontscale)\n",
                "\n",
                "ax = sns.countplot(x=\"World Cleanup Day\", data=resultados, palette=empresa_palette)\n",
                "ax.set_ylim(0, 400)\n",
                "ax.set_ylabel(\"\")\n",
                "ax.set_xlabel(\"\")\n",
                "\n",
                "for p in ax.patches:\n",
                "    ax.annotate('{:.0f}'.format(p.get_height()), ((p.get_x()+p.get_width()/2)+0.02, p.get_y()+p.get_height()+5), ha=\"center\")\n",
                "    \n",
                "plt.tight_layout()\n",
                "\n",
                "plt.savefig(\"charts/world-cleanup-day.png\")"
            ]
        },
        {
            "cell_type": "markdown",
            "metadata": {},
            "source": [
                "## Como as informações sobre as ações de voluntariado da Empresa chegam a você?\n"
            ]
        },
        {
            "cell_type": "code",
            "execution_count": null,
            "metadata": {},
            "outputs": [],
            "source": [
                "meio_informacoes = collections.Counter(itertools.chain.from_iterable(v.split(';') for v in resultados[\"Entrada das Informações\"]))\n",
                "del meio_informacoes['']\n",
                "meio_informacoes = pd.DataFrame.from_dict(meio_informacoes,orient='index').reset_index().rename(columns={'index':'Meio', 0:'Qtd'})\n",
                "meio_informacoes"
            ]
        },
        {
            "cell_type": "code",
            "execution_count": null,
            "metadata": {},
            "outputs": [],
            "source": [
                "sns.set_theme(style=\"whitegrid\", font_scale=1.5)\n",
                "\n",
                "ax = sns.barplot(y=\"Meio\", x=\"Qtd\",data=meio_informacoes, palette=empresa_palette)\n",
                "ax.set_xlabel(\"\")\n",
                "ax.set_ylabel(\"\")\n",
                "ax.set_xlim(0,550)\n",
                "ax.set_yticklabels([textwrap.fill(e, 40) for e in meio_informacoes['Meio'].head(n=6)])\n",
                "\n",
                "for p in ax.patches:\n",
                "    ax.annotate('{:.0f}'.format(p.get_width()), (p.get_width()+1, p.get_y()+0.50))\n",
                "    \n",
                "plt.tight_layout()\n",
                "\n",
                "plt.savefig(\"charts/comunicados.png\")"
            ]
        },
        {
            "cell_type": "markdown",
            "metadata": {},
            "source": [
                "## Sobre a frequencia das informações recebidas por e-mail"
            ]
        },
        {
            "cell_type": "code",
            "execution_count": null,
            "metadata": {},
            "outputs": [],
            "source": [
                "resultados[\"Frequencia das Informações\"].unique()"
            ]
        },
        {
            "cell_type": "code",
            "execution_count": null,
            "metadata": {},
            "outputs": [],
            "source": [
                "def frequency(text):\n",
                "    if(text == \"Poderia ser maior, para me manter sempre informado e atualizado\"):\n",
                "        newText = \"Poderia ser maior\"\n",
                "    elif(text == \"A frequencia está boa, consigo ler e acompanhar todos os emails\"):\n",
                "        newText = \"A frequência está boa\"\n",
                "    else:\n",
                "        newText = \"Poderia ser menor\"\n",
                "    return newText"
            ]
        },
        {
            "cell_type": "code",
            "execution_count": null,
            "metadata": {},
            "outputs": [],
            "source": [
                "resultados[\"Frequencia das Informações\"] = resultados[\"Frequencia das Informações\"].apply(frequency)"
            ]
        },
        {
            "cell_type": "code",
            "execution_count": null,
            "metadata": {},
            "outputs": [],
            "source": [
                "sns.set_theme(style=\"whitegrid\", font_scale=fontscale)\n",
                "\n",
                "ax = sns.countplot(y=\"Frequencia das Informações\", data=resultados, palette=empresa_palette)\n",
                "# ax.set_xlim(0, 400)\n",
                "ax.set_ylabel(\"\")\n",
                "ax.set_xlabel(\"\")\n",
                "# ax.set_yticklabels([textwrap.fill(e, 38) for e in resultados['Frequencia das Informações'].head(n=3)])\n",
                "# ax.set_yticklabels(resultados['Frequencia das Informações'].head(n=3), wrap=True) \n",
                "\n",
                "for p in ax.patches:\n",
                "    ax.annotate('{:.0f}'.format(p.get_width()), (p.get_width()+1, p.get_y()+0.45))\n",
                "    \n",
                "    \n",
                "plt.tight_layout()\n",
                "\n",
                "plt.savefig(\"charts/frequencia.png\")"
            ]
        },
        {
            "cell_type": "code",
            "execution_count": null,
            "metadata": {},
            "outputs": [],
            "source": [
                "df_sedes = funcionarios_ext.copy()\n",
                "df_sedes.loc[df_sedes['Centro Trabajo']==\"SAO PAULO\",\"Lat\"] = -23.5475\n",
                "df_sedes.loc[df_sedes['Centro Trabajo']==\"SAO PAULO\",\"Lng\"] = -46.63611\n",
                "\n",
                "df_sedes.loc[df_sedes['Centro Trabajo']==\"JOAO PESSOA\",\"Lat\"] = -7.115\n",
                "df_sedes.loc[df_sedes['Centro Trabajo']==\"JOAO PESSOA\",\"Lng\"] = -34.86306\n",
                "\n",
                "df_sedes.loc[df_sedes['Centro Trabajo']==\"MACEIO\",\"Lat\"] = -9.66583\n",
                "df_sedes.loc[df_sedes['Centro Trabajo']==\"MACEIO\",\"Lng\"] = -35.73528\n",
                "\n",
                "df_sedes.loc[df_sedes['Centro Trabajo']==\"BRASILIA\",\"Lat\"] = -15.77972\n",
                "df_sedes.loc[df_sedes['Centro Trabajo']==\"BRASILIA\",\"Lng\"] = -47.92972\n",
                "\n",
                "df_sedes.loc[df_sedes['Centro Trabajo']==\"RIO DE JANEIRO\",\"Lat\"] = -22.90278\n",
                "df_sedes.loc[df_sedes['Centro Trabajo']==\"RIO DE JANEIRO\",\"Lng\"] = -43.2075\n",
                "\n",
                "df_sedes.loc[df_sedes['Centro Trabajo']==\"CAMPINAS\",\"Lat\"] = -22.90556\n",
                "df_sedes.loc[df_sedes['Centro Trabajo']==\"CAMPINAS\",\"Lng\"] = -47.06083\n",
                "\n",
                "df_sedes.loc[df_sedes['Centro Trabajo']==\"C. GOYTACAZES\",\"Lat\"] = -21.75227\n",
                "df_sedes.loc[df_sedes['Centro Trabajo']==\"C. GOYTACAZES\",\"Lng\"] = -41.33044\n",
                "\n",
                "df_sedes.loc[df_sedes['Centro Trabajo']==\"FLORIANOPOLIS\",\"Lat\"] = -27.59667\n",
                "df_sedes.loc[df_sedes['Centro Trabajo']==\"FLORIANOPOLIS\",\"Lng\"] = -48.54917\n",
                "\n",
                "df_sedes.loc[df_sedes['Centro Trabajo']==\"GOIANIA\",\"Lat\"] = -16.67861\n",
                "df_sedes.loc[df_sedes['Centro Trabajo']==\"GOIANIA\",\"Lng\"] = -49.25389\n",
                "\n",
                "df_sedes.loc[df_sedes['Centro Trabajo']==\"MARACANAU\",\"Lat\"] = -3.87667\n",
                "df_sedes.loc[df_sedes['Centro Trabajo']==\"MARACANAU\",\"Lng\"] = -38.62556\n",
                "\n",
                "df_sedes.loc[df_sedes['Centro Trabajo']==\"FORTALEZA\",\"Lat\"] = -3.71722\n",
                "df_sedes.loc[df_sedes['Centro Trabajo']==\"FORTALEZA\",\"Lng\"] = -38.54306\n",
                "\n",
                "df_sedes.loc[df_sedes['Centro Trabajo']==\"ARACAJU\",\"Lat\"] = -10.91111\n",
                "df_sedes.loc[df_sedes['Centro Trabajo']==\"ARACAJU\",\"Lng\"] = -37.07167\n",
                "\n",
                "df_sedes.loc[df_sedes['Centro Trabajo']==\"RECIFE\",\"Lat\"] = -8.05389\n",
                "df_sedes.loc[df_sedes['Centro Trabajo']==\"RECIFE\",\"Lng\"] = -34.88111\n",
                "\n",
                "df_sedes.loc[df_sedes['Centro Trabajo']==\"NATAL\",\"Lat\"] = -5.795\n",
                "df_sedes.loc[df_sedes['Centro Trabajo']==\"NATAL\",\"Lng\"] = -35.20944\n",
                "\n",
                "df_sedes.loc[df_sedes['Centro Trabajo']==\"MACAPA\",\"Lat\"] = 0.03889\n",
                "df_sedes.loc[df_sedes['Centro Trabajo']==\"MACAPA\",\"Lng\"] = -51.06639\n",
                "\n",
                "df_sedes.loc[df_sedes['Centro Trabajo']==\"CURITIBA\",\"Lat\"] = -25.42778\n",
                "df_sedes.loc[df_sedes['Centro Trabajo']==\"CURITIBA\",\"Lng\"] = -49.27306\n",
                "\n",
                "df_sedes.loc[df_sedes['Centro Trabajo']==\"SALVADOR\",\"Lat\"] = -12.97111\n",
                "df_sedes.loc[df_sedes['Centro Trabajo']==\"SALVADOR\",\"Lng\"] = -38.51083\n",
                "\n",
                "df_sedes = df_sedes.dropna(subset=['Lat'])"
            ]
        },
        {
            "cell_type": "code",
            "execution_count": null,
            "metadata": {},
            "outputs": [],
            "source": [
                "sns.set_theme(style=\"whitegrid\", font_scale=fontscale)\n",
                "\n",
                "ax = sns.countplot(x=\"Centro Trabajo\", data=df_sedes, palette=empresa_palette, order=df_sedes['Centro Trabajo'].value_counts().index)\n",
                "# ax.set_xlim(0, 400)\n",
                "ax.set_ylabel(\"\")\n",
                "ax.set_xlabel(\"\")\n",
                "# ax.set_yticklabels([textwrap.fill(e, 38) for e in resultados['Frequencia das Informações'].head(n=3)])\n",
                "# ax.set_yticklabels(resultados['Frequencia das Informações'].head(n=3), wrap=True) \n",
                "\n",
                "for p in ax.patches:\n",
                "    ax.annotate('{:.0f}'.format(p.get_height()), ((p.get_x()+p.get_width()/2)+0.02, p.get_y()+p.get_height()+5), ha=\"center\")\n",
                "\n",
                "for item in ax.get_xticklabels():\n",
                "            item.set_rotation(90)\n",
                "    \n",
                "plt.tight_layout()\n",
                "\n",
                "plt.savefig(\"charts/cidades.png\")"
            ]
        },
        {
            "cell_type": "code",
            "execution_count": null,
            "metadata": {},
            "outputs": [],
            "source": [
                "plt.figure(figsize=(20,10))\n",
                "\n",
                "import folium\n",
                "from folium.plugins import HeatMap\n",
                "\n",
                "lat = df_sedes.Lat.tolist()\n",
                "lng = df_sedes.Lng.tolist()\n",
                "\n",
                "m=folium.Map(\n",
                "    location=[-15, -46.63611],\n",
                "    zoom_start=4.4,\n",
                "    tiles ='Cartodb dark_matter'\n",
                ");\n",
                "\n",
                "HeatMap(list(zip(lat, lng))).add_to(m)\n",
                "m\n",
                "# m.save(\"charts/heatmap.html\")"
            ]
        },
        {
            "cell_type": "code",
            "execution_count": null,
            "metadata": {},
            "outputs": [],
            "source": [
                "sns.set_theme(style=\"whitegrid\", font_scale=fontscale)\n",
                "\n",
                "ax = sns.countplot(x=\"Negocio\", data=funcionarios_ext, palette=empresa_palette, order=funcionarios_ext['Negocio'].value_counts().index)\n",
                "ax.set_ylim(0, 300)\n",
                "ax.set_ylabel(\"\")\n",
                "ax.set_xlabel(\"\")\n",
                "# ax.set_yticklabels([textwrap.fill(e, 38) for e in resultados['Frequencia das Informações'].head(n=3)])\n",
                "# ax.set_yticklabels(resultados['Frequencia das Informações'].head(n=3), wrap=True) \n",
                "\n",
                "for p in ax.patches:\n",
                "    ax.annotate('{:.0f}'.format(p.get_height()), ((p.get_x()+p.get_width()/2)+0.02, p.get_y()+p.get_height()+5), ha=\"center\")\n",
                "\n",
                "for item in ax.get_xticklabels():\n",
                "            item.set_rotation(90)\n",
                "    \n",
                "plt.tight_layout()\n",
                "\n",
                "plt.savefig(\"charts/mercados.png\")"
            ]
        },
        {
            "cell_type": "code",
            "execution_count": null,
            "metadata": {},
            "outputs": [],
            "source": [
                "# df[['col1', 'col2', 'col3', 'col4']].groupby(['col1', 'col2']).agg(['mean', 'count'])\n",
                "\n",
                "qtd = funcionarios_ext[['Sexo']].groupby([\"Sexo\"])['Sexo'].count()\n",
                "qtd"
            ]
        },
        {
            "cell_type": "code",
            "execution_count": null,
            "metadata": {},
            "outputs": [],
            "source": [
                "sns.set_theme(style=\"whitegrid\", font_scale=fontscale)\n",
                "\n",
                "ax = sns.countplot(x=\"Sexo\", data=df_sedes, palette=empresa_palette, order=df_sedes['Sexo'].value_counts().index)\n",
                "# ax.set_xlim(0, 400)\n",
                "ax.set_ylabel(\"\")\n",
                "ax.set_xlabel(\"\")\n",
                "# ax.set_yticklabels([textwrap.fill(e, 38) for e in resultados['Frequencia das Informações'].head(n=3)])\n",
                "# ax.set_yticklabels(resultados['Frequencia das Informações'].head(n=3), wrap=True) \n",
                "\n",
                "for p in ax.patches:\n",
                "    ax.annotate('{:.0f}'.format(p.get_height()), ((p.get_x()+p.get_width()/2)+0.02, p.get_y()+p.get_height()+5), ha=\"center\")\n",
                "\n",
                "# for item in ax.get_xticklabels():\n",
                "#             item.set_rotation(90)\n",
                "    \n",
                "plt.tight_layout()\n",
                "\n",
                "# plt.savefig(\"charts/cidades.png\")"
            ]
        },
        {
            "cell_type": "code",
            "execution_count": null,
            "metadata": {},
            "outputs": [],
            "source": [
                "funcionarios_ext.columns"
            ]
        },
        {
            "cell_type": "code",
            "execution_count": null,
            "metadata": {},
            "outputs": [],
            "source": [
                "funcionarios_ext[funcionarios_ext[\"World Cleanup Day\"] == \"Sim\"].groupby(\"Centro Trabajo\")[\"Centro Trabajo\"].agg(['count'])\n"
            ]
        },
        {
            "cell_type": "code",
            "execution_count": null,
            "metadata": {},
            "outputs": [],
            "source": [
                "funcionarios_ext.columns"
            ]
        },
        {
            "cell_type": "code",
            "execution_count": null,
            "metadata": {},
            "outputs": [],
            "source": [
                "funcionarios_ext.head()"
            ]
        },
        {
            "cell_type": "code",
            "execution_count": null,
            "metadata": {},
            "outputs": [],
            "source": [
                "plt.figure(figsize=(10, 70))\n",
                "sns.set_theme(style=\"whitegrid\", font_scale=fontscale)\n",
                "\n",
                "ax = sns.countplot(y=\"Função - Nome\", data=funcionarios_ext, palette=empresa_palette,\n",
                "                   order=funcionarios_ext['Função - Nome'].value_counts().index)\n",
                "ax.set_ylabel(\"\")\n",
                "ax.set_xlabel(\"\")\n",
                "ax.set_xlim(0,80)\n",
                "# ax.set_yticklabels([textwrap.fill(e, 38) for e in resultados['Frequencia das Informações'].head(n=3)])\n",
                "# ax.set_yticklabels(resultados['Frequencia das Informações'].head(n=3), wrap=True)\n",
                "\n",
                "for p in ax.patches:\n",
                "    ax.annotate('{:.0f}'.format(p.get_width()),\n",
                "                (p.get_width()+1, p.get_y()+0.68))\n",
                "\n",
                "plt.tight_layout()\n",
                "\n",
                "plt.savefig(\"charts/funcao.png\")\n"
            ]
        },
        {
            "cell_type": "code",
            "execution_count": null,
            "metadata": {},
            "outputs": [],
            "source": []
        }
    ],
    "metadata": {
        "interpreter": {
            "hash": "9761429c62de02fc8a2e27cfa5a85056a7bf514d6c602dc934f0f5e82a524f8f"
        },
        "kernelspec": {
            "display_name": "Python 3.9.2 64-bit",
            "name": "python3"
        },
        "language_info": {
            "codemirror_mode": {
                "name": "ipython",
                "version": 3
            },
            "file_extension": ".py",
            "mimetype": "text/x-python",
            "name": "python",
            "nbconvert_exporter": "python",
            "pygments_lexer": "ipython3",
            "version": "3.10.4"
        },
        "orig_nbformat": 4
    },
    "nbformat": 4,
    "nbformat_minor": 2
}
